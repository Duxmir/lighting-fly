{
 "cells": [
  {
   "cell_type": "code",
   "execution_count": 1,
   "id": "758a4a08",
   "metadata": {},
   "outputs": [],
   "source": [
    "# load useful libraries\n",
    "import os\n",
    "import wfdb as wf\n",
    "import numpy as np\n",
    "import matplotlib.pyplot as plt\n",
    "from scipy import signal\n",
    "from biosppy.signals import ecg\n",
    "import pandas as pd\n",
    "from sklearn import datasets\n",
    "from sklearn.model_selection import train_test_split\n",
    "from sklearn.metrics import confusion_matrix, classification_report\n",
    "from sklearn.tree import DecisionTreeClassifier\n",
    "from sklearn.ensemble import RandomForestClassifier\n",
    "import tensorflow as tf\n",
    "from sklearn.preprocessing import MinMaxScaler\n",
    "from sklearn.preprocessing import normalize\n",
    "import glob\n",
    "from keras import optimizers, losses, activations, models\n",
    "from keras.callbacks import ModelCheckpoint, ReduceLROnPlateau\n",
    "from keras.layers import Dense, Input, Convolution1D, GlobalMaxPool1D, \\\n",
    "    concatenate\n",
    "from sklearn.metrics import f1_score\n",
    "from sklearn.model_selection import train_test_split\n"
   ]
  },
  {
   "cell_type": "code",
   "execution_count": 2,
   "id": "2734f7d0",
   "metadata": {
    "scrolled": true
   },
   "outputs": [],
   "source": [
    "# Load data from 'AllData_to_norm.csv'. This file contains 500 of each of these type of signals: ECG, EMG, and EEG labeled as 1, 2 and 3 respectively.\n",
    "# Each row represents a 10 second sample, resampled to 1000 adquisitions per second. \n",
    "# In terms of this sequential data machine learning algorithm, each sample has 10000 features.\n",
    "\n",
    "data=pd.read_csv('AllData_to_norm.csv', header=None) \n"
   ]
  },
  {
   "cell_type": "code",
   "execution_count": 3,
   "id": "2648f50e",
   "metadata": {
    "scrolled": false
   },
   "outputs": [],
   "source": [
    "# check for nan values\n",
    "data_clean=data.dropna(axis=0)\n",
    "# 2 out of 1500 samples were dropped"
   ]
  },
  {
   "cell_type": "code",
   "execution_count": 4,
   "id": "c7af229f",
   "metadata": {},
   "outputs": [
    {
     "data": {
      "text/html": [
       "<div>\n",
       "<style scoped>\n",
       "    .dataframe tbody tr th:only-of-type {\n",
       "        vertical-align: middle;\n",
       "    }\n",
       "\n",
       "    .dataframe tbody tr th {\n",
       "        vertical-align: top;\n",
       "    }\n",
       "\n",
       "    .dataframe thead th {\n",
       "        text-align: right;\n",
       "    }\n",
       "</style>\n",
       "<table border=\"1\" class=\"dataframe\">\n",
       "  <thead>\n",
       "    <tr style=\"text-align: right;\">\n",
       "      <th></th>\n",
       "      <th>0</th>\n",
       "      <th>1</th>\n",
       "      <th>2</th>\n",
       "      <th>3</th>\n",
       "      <th>4</th>\n",
       "      <th>5</th>\n",
       "      <th>6</th>\n",
       "      <th>7</th>\n",
       "      <th>8</th>\n",
       "      <th>9</th>\n",
       "      <th>...</th>\n",
       "      <th>9992</th>\n",
       "      <th>9993</th>\n",
       "      <th>9994</th>\n",
       "      <th>9995</th>\n",
       "      <th>9996</th>\n",
       "      <th>9997</th>\n",
       "      <th>9998</th>\n",
       "      <th>9999</th>\n",
       "      <th>10000</th>\n",
       "      <th>10001</th>\n",
       "    </tr>\n",
       "  </thead>\n",
       "  <tbody>\n",
       "    <tr>\n",
       "      <th>0</th>\n",
       "      <td>810.00</td>\n",
       "      <td>811.532876</td>\n",
       "      <td>810.00</td>\n",
       "      <td>808.467124</td>\n",
       "      <td>810.00</td>\n",
       "      <td>814.598628</td>\n",
       "      <td>810.00</td>\n",
       "      <td>786.388365</td>\n",
       "      <td>756.00</td>\n",
       "      <td>732.347912</td>\n",
       "      <td>...</td>\n",
       "      <td>-176.00</td>\n",
       "      <td>-186.285922</td>\n",
       "      <td>-200.00</td>\n",
       "      <td>-202.696359</td>\n",
       "      <td>-195.00</td>\n",
       "      <td>-181.303641</td>\n",
       "      <td>-166.00</td>\n",
       "      <td>-153.481796</td>\n",
       "      <td>-148.141748</td>\n",
       "      <td>1</td>\n",
       "    </tr>\n",
       "    <tr>\n",
       "      <th>1</th>\n",
       "      <td>527.00</td>\n",
       "      <td>527.292872</td>\n",
       "      <td>527.00</td>\n",
       "      <td>526.707128</td>\n",
       "      <td>527.00</td>\n",
       "      <td>527.878615</td>\n",
       "      <td>527.00</td>\n",
       "      <td>522.528412</td>\n",
       "      <td>517.00</td>\n",
       "      <td>512.882735</td>\n",
       "      <td>...</td>\n",
       "      <td>122.00</td>\n",
       "      <td>113.124255</td>\n",
       "      <td>102.00</td>\n",
       "      <td>94.583582</td>\n",
       "      <td>93.00</td>\n",
       "      <td>98.416418</td>\n",
       "      <td>112.00</td>\n",
       "      <td>134.917908</td>\n",
       "      <td>168.337306</td>\n",
       "      <td>1</td>\n",
       "    </tr>\n",
       "    <tr>\n",
       "      <th>2</th>\n",
       "      <td>49.00</td>\n",
       "      <td>41.501907</td>\n",
       "      <td>34.00</td>\n",
       "      <td>30.248093</td>\n",
       "      <td>34.00</td>\n",
       "      <td>46.505720</td>\n",
       "      <td>59.00</td>\n",
       "      <td>63.229025</td>\n",
       "      <td>63.00</td>\n",
       "      <td>63.453178</td>\n",
       "      <td>...</td>\n",
       "      <td>-20.00</td>\n",
       "      <td>-20.963976</td>\n",
       "      <td>-20.00</td>\n",
       "      <td>-21.137008</td>\n",
       "      <td>-24.00</td>\n",
       "      <td>-27.112992</td>\n",
       "      <td>-29.00</td>\n",
       "      <td>-28.185040</td>\n",
       "      <td>-23.192128</td>\n",
       "      <td>1</td>\n",
       "    </tr>\n",
       "    <tr>\n",
       "      <th>3</th>\n",
       "      <td>0.00</td>\n",
       "      <td>-9.874520</td>\n",
       "      <td>-15.00</td>\n",
       "      <td>-15.125480</td>\n",
       "      <td>-10.00</td>\n",
       "      <td>-0.248560</td>\n",
       "      <td>10.00</td>\n",
       "      <td>16.744718</td>\n",
       "      <td>20.00</td>\n",
       "      <td>20.769686</td>\n",
       "      <td>...</td>\n",
       "      <td>5.00</td>\n",
       "      <td>4.687185</td>\n",
       "      <td>5.00</td>\n",
       "      <td>3.229272</td>\n",
       "      <td>0.00</td>\n",
       "      <td>-3.229272</td>\n",
       "      <td>-5.00</td>\n",
       "      <td>-3.853641</td>\n",
       "      <td>1.668348</td>\n",
       "      <td>1</td>\n",
       "    </tr>\n",
       "    <tr>\n",
       "      <th>4</th>\n",
       "      <td>273.00</td>\n",
       "      <td>273.370362</td>\n",
       "      <td>273.00</td>\n",
       "      <td>272.629638</td>\n",
       "      <td>273.00</td>\n",
       "      <td>274.111086</td>\n",
       "      <td>273.00</td>\n",
       "      <td>267.176017</td>\n",
       "      <td>259.00</td>\n",
       "      <td>251.309845</td>\n",
       "      <td>...</td>\n",
       "      <td>-5.00</td>\n",
       "      <td>2.913658</td>\n",
       "      <td>10.00</td>\n",
       "      <td>11.737114</td>\n",
       "      <td>10.00</td>\n",
       "      <td>8.262886</td>\n",
       "      <td>10.00</td>\n",
       "      <td>18.685570</td>\n",
       "      <td>37.793823</td>\n",
       "      <td>1</td>\n",
       "    </tr>\n",
       "    <tr>\n",
       "      <th>...</th>\n",
       "      <td>...</td>\n",
       "      <td>...</td>\n",
       "      <td>...</td>\n",
       "      <td>...</td>\n",
       "      <td>...</td>\n",
       "      <td>...</td>\n",
       "      <td>...</td>\n",
       "      <td>...</td>\n",
       "      <td>...</td>\n",
       "      <td>...</td>\n",
       "      <td>...</td>\n",
       "      <td>...</td>\n",
       "      <td>...</td>\n",
       "      <td>...</td>\n",
       "      <td>...</td>\n",
       "      <td>...</td>\n",
       "      <td>...</td>\n",
       "      <td>...</td>\n",
       "      <td>...</td>\n",
       "      <td>...</td>\n",
       "      <td>...</td>\n",
       "    </tr>\n",
       "    <tr>\n",
       "      <th>1495</th>\n",
       "      <td>6.59</td>\n",
       "      <td>-1.130000</td>\n",
       "      <td>-7.17</td>\n",
       "      <td>-5.640000</td>\n",
       "      <td>-1.48</td>\n",
       "      <td>0.510000</td>\n",
       "      <td>5.51</td>\n",
       "      <td>5.800000</td>\n",
       "      <td>0.50</td>\n",
       "      <td>0.440000</td>\n",
       "      <td>...</td>\n",
       "      <td>-7.81</td>\n",
       "      <td>-6.700000</td>\n",
       "      <td>-5.44</td>\n",
       "      <td>-7.550000</td>\n",
       "      <td>-9.75</td>\n",
       "      <td>-9.040000</td>\n",
       "      <td>-5.41</td>\n",
       "      <td>-7.170000</td>\n",
       "      <td>-7.800000</td>\n",
       "      <td>3</td>\n",
       "    </tr>\n",
       "    <tr>\n",
       "      <th>1496</th>\n",
       "      <td>-7.80</td>\n",
       "      <td>-5.600000</td>\n",
       "      <td>-4.96</td>\n",
       "      <td>-7.210000</td>\n",
       "      <td>-5.68</td>\n",
       "      <td>-5.840000</td>\n",
       "      <td>-6.40</td>\n",
       "      <td>-6.740000</td>\n",
       "      <td>-3.92</td>\n",
       "      <td>-4.290000</td>\n",
       "      <td>...</td>\n",
       "      <td>-4.16</td>\n",
       "      <td>-3.010000</td>\n",
       "      <td>-2.65</td>\n",
       "      <td>-2.650000</td>\n",
       "      <td>-4.93</td>\n",
       "      <td>-3.630000</td>\n",
       "      <td>-2.36</td>\n",
       "      <td>-2.600000</td>\n",
       "      <td>-2.940000</td>\n",
       "      <td>3</td>\n",
       "    </tr>\n",
       "    <tr>\n",
       "      <th>1497</th>\n",
       "      <td>-4.09</td>\n",
       "      <td>-4.070000</td>\n",
       "      <td>-2.83</td>\n",
       "      <td>-5.520000</td>\n",
       "      <td>-2.79</td>\n",
       "      <td>-2.360000</td>\n",
       "      <td>-2.55</td>\n",
       "      <td>-2.690000</td>\n",
       "      <td>-1.02</td>\n",
       "      <td>-1.890000</td>\n",
       "      <td>...</td>\n",
       "      <td>-0.17</td>\n",
       "      <td>-2.470000</td>\n",
       "      <td>-3.14</td>\n",
       "      <td>-2.040000</td>\n",
       "      <td>-0.82</td>\n",
       "      <td>-1.220000</td>\n",
       "      <td>0.14</td>\n",
       "      <td>-1.760000</td>\n",
       "      <td>-1.180000</td>\n",
       "      <td>3</td>\n",
       "    </tr>\n",
       "    <tr>\n",
       "      <th>1498</th>\n",
       "      <td>-0.84</td>\n",
       "      <td>0.820000</td>\n",
       "      <td>-2.29</td>\n",
       "      <td>-0.640000</td>\n",
       "      <td>0.31</td>\n",
       "      <td>2.860000</td>\n",
       "      <td>1.93</td>\n",
       "      <td>-0.040000</td>\n",
       "      <td>1.59</td>\n",
       "      <td>-1.220000</td>\n",
       "      <td>...</td>\n",
       "      <td>-0.95</td>\n",
       "      <td>-0.530000</td>\n",
       "      <td>1.37</td>\n",
       "      <td>1.050000</td>\n",
       "      <td>0.04</td>\n",
       "      <td>0.350000</td>\n",
       "      <td>3.26</td>\n",
       "      <td>-0.690000</td>\n",
       "      <td>1.300000</td>\n",
       "      <td>3</td>\n",
       "    </tr>\n",
       "    <tr>\n",
       "      <th>1499</th>\n",
       "      <td>0.09</td>\n",
       "      <td>3.900000</td>\n",
       "      <td>0.93</td>\n",
       "      <td>0.560000</td>\n",
       "      <td>-1.09</td>\n",
       "      <td>-1.770000</td>\n",
       "      <td>-1.51</td>\n",
       "      <td>-1.290000</td>\n",
       "      <td>-1.94</td>\n",
       "      <td>-1.340000</td>\n",
       "      <td>...</td>\n",
       "      <td>0.09</td>\n",
       "      <td>-0.880000</td>\n",
       "      <td>-0.03</td>\n",
       "      <td>1.810000</td>\n",
       "      <td>2.56</td>\n",
       "      <td>-0.680000</td>\n",
       "      <td>0.12</td>\n",
       "      <td>1.880000</td>\n",
       "      <td>3.510000</td>\n",
       "      <td>3</td>\n",
       "    </tr>\n",
       "  </tbody>\n",
       "</table>\n",
       "<p>1498 rows × 10002 columns</p>\n",
       "</div>"
      ],
      "text/plain": [
       "       0           1       2           3       4           5       6      \\\n",
       "0     810.00  811.532876  810.00  808.467124  810.00  814.598628  810.00   \n",
       "1     527.00  527.292872  527.00  526.707128  527.00  527.878615  527.00   \n",
       "2      49.00   41.501907   34.00   30.248093   34.00   46.505720   59.00   \n",
       "3       0.00   -9.874520  -15.00  -15.125480  -10.00   -0.248560   10.00   \n",
       "4     273.00  273.370362  273.00  272.629638  273.00  274.111086  273.00   \n",
       "...      ...         ...     ...         ...     ...         ...     ...   \n",
       "1495    6.59   -1.130000   -7.17   -5.640000   -1.48    0.510000    5.51   \n",
       "1496   -7.80   -5.600000   -4.96   -7.210000   -5.68   -5.840000   -6.40   \n",
       "1497   -4.09   -4.070000   -2.83   -5.520000   -2.79   -2.360000   -2.55   \n",
       "1498   -0.84    0.820000   -2.29   -0.640000    0.31    2.860000    1.93   \n",
       "1499    0.09    3.900000    0.93    0.560000   -1.09   -1.770000   -1.51   \n",
       "\n",
       "           7       8           9      ...   9992        9993    9994   \\\n",
       "0     786.388365  756.00  732.347912  ... -176.00 -186.285922 -200.00   \n",
       "1     522.528412  517.00  512.882735  ...  122.00  113.124255  102.00   \n",
       "2      63.229025   63.00   63.453178  ...  -20.00  -20.963976  -20.00   \n",
       "3      16.744718   20.00   20.769686  ...    5.00    4.687185    5.00   \n",
       "4     267.176017  259.00  251.309845  ...   -5.00    2.913658   10.00   \n",
       "...          ...     ...         ...  ...     ...         ...     ...   \n",
       "1495    5.800000    0.50    0.440000  ...   -7.81   -6.700000   -5.44   \n",
       "1496   -6.740000   -3.92   -4.290000  ...   -4.16   -3.010000   -2.65   \n",
       "1497   -2.690000   -1.02   -1.890000  ...   -0.17   -2.470000   -3.14   \n",
       "1498   -0.040000    1.59   -1.220000  ...   -0.95   -0.530000    1.37   \n",
       "1499   -1.290000   -1.94   -1.340000  ...    0.09   -0.880000   -0.03   \n",
       "\n",
       "           9995    9996        9997    9998        9999        10000  10001  \n",
       "0    -202.696359 -195.00 -181.303641 -166.00 -153.481796 -148.141748      1  \n",
       "1      94.583582   93.00   98.416418  112.00  134.917908  168.337306      1  \n",
       "2     -21.137008  -24.00  -27.112992  -29.00  -28.185040  -23.192128      1  \n",
       "3       3.229272    0.00   -3.229272   -5.00   -3.853641    1.668348      1  \n",
       "4      11.737114   10.00    8.262886   10.00   18.685570   37.793823      1  \n",
       "...          ...     ...         ...     ...         ...         ...    ...  \n",
       "1495   -7.550000   -9.75   -9.040000   -5.41   -7.170000   -7.800000      3  \n",
       "1496   -2.650000   -4.93   -3.630000   -2.36   -2.600000   -2.940000      3  \n",
       "1497   -2.040000   -0.82   -1.220000    0.14   -1.760000   -1.180000      3  \n",
       "1498    1.050000    0.04    0.350000    3.26   -0.690000    1.300000      3  \n",
       "1499    1.810000    2.56   -0.680000    0.12    1.880000    3.510000      3  \n",
       "\n",
       "[1498 rows x 10002 columns]"
      ]
     },
     "execution_count": 4,
     "metadata": {},
     "output_type": "execute_result"
    }
   ],
   "source": [
    "# set X (training data) and y (target variable)\n",
    "cols = data_clean.shape[1]\n",
    "features = data_clean.iloc[:,0:cols-1]\n",
    "target = data_clean.iloc[:,cols-1:cols]\n",
    "data_clean\n"
   ]
  },
  {
   "cell_type": "code",
   "execution_count": 5,
   "id": "eb043d1d",
   "metadata": {
    "scrolled": false
   },
   "outputs": [],
   "source": [
    "# normalize each sample from 0 to 1\n",
    "features_norm = normalize(features, norm='l2', axis=1)"
   ]
  },
  {
   "cell_type": "code",
   "execution_count": 6,
   "id": "5a8101bb",
   "metadata": {
    "scrolled": true
   },
   "outputs": [],
   "source": [
    "# create df with normalized samples\n",
    "features_ready=pd.DataFrame(features_norm)"
   ]
  },
  {
   "cell_type": "code",
   "execution_count": 7,
   "id": "0eaf5120",
   "metadata": {},
   "outputs": [
    {
     "name": "stdout",
     "output_type": "stream",
     "text": [
      "(1498, 10001) (1498, 1)\n"
     ]
    }
   ],
   "source": [
    "# sanity check for features and target shape\n",
    "print(features_ready.shape, target.shape)"
   ]
  },
  {
   "cell_type": "code",
   "execution_count": 8,
   "id": "06578497",
   "metadata": {
    "scrolled": true
   },
   "outputs": [
    {
     "name": "stdout",
     "output_type": "stream",
     "text": [
      "(1498, 1)\n"
     ]
    }
   ],
   "source": [
    "# convert X and Y from pandas to np\n",
    "X = np.matrix(features_ready.values)\n",
    "Y = np.matrix(target.values)\n",
    "\n",
    "# sanity check\n",
    "print(Y.shape)\n"
   ]
  },
  {
   "cell_type": "code",
   "execution_count": 9,
   "id": "55207522",
   "metadata": {},
   "outputs": [],
   "source": [
    "# split the data into \"training\" and \"test\" datasets\n",
    "X_train, X_test, Y_train, Y_test = train_test_split(X, Y, test_size = .20, random_state =42)"
   ]
  },
  {
   "cell_type": "code",
   "execution_count": 10,
   "id": "0f847bed",
   "metadata": {},
   "outputs": [
    {
     "name": "stdout",
     "output_type": "stream",
     "text": [
      "(1498, 1)\n"
     ]
    }
   ],
   "source": [
    "print(Y.shape)"
   ]
  },
  {
   "cell_type": "code",
   "execution_count": 11,
   "id": "7e78eb4b",
   "metadata": {},
   "outputs": [
    {
     "data": {
      "text/plain": [
       "array([[1],\n",
       "       [2],\n",
       "       [3]], dtype=int64)"
      ]
     },
     "execution_count": 11,
     "metadata": {},
     "output_type": "execute_result"
    }
   ],
   "source": [
    "# Sanity check, labels should start from 0 to n, otherwise the softmax function gets confused\n",
    "np.unique(Y_train, axis=0)\n"
   ]
  },
  {
   "cell_type": "code",
   "execution_count": 12,
   "id": "caefbff4",
   "metadata": {},
   "outputs": [
    {
     "data": {
      "text/plain": [
       "array([[0],\n",
       "       [1],\n",
       "       [2]], dtype=int64)"
      ]
     },
     "execution_count": 12,
     "metadata": {},
     "output_type": "execute_result"
    }
   ],
   "source": [
    "# Converting my labels to 0,1,2 instead of 1,2,3\n",
    "Y_train_fix = Y_train-1\n",
    "Y_test_fix = Y_test-1\n",
    "\n",
    "# Sanity check for Y_train_fix \n",
    "np.unique(Y_train_fix, axis=0)\n"
   ]
  },
  {
   "cell_type": "code",
   "execution_count": 13,
   "id": "defbd0f9",
   "metadata": {},
   "outputs": [
    {
     "data": {
      "text/plain": [
       "array([[0],\n",
       "       [1],\n",
       "       [2]], dtype=int64)"
      ]
     },
     "execution_count": 13,
     "metadata": {},
     "output_type": "execute_result"
    }
   ],
   "source": [
    "# Sanity check for Y_test_fix \n",
    "np.unique(Y_test_fix, axis=0)\n"
   ]
  },
  {
   "cell_type": "code",
   "execution_count": 14,
   "id": "5714b955",
   "metadata": {},
   "outputs": [],
   "source": [
    "# defining the classifier\n",
    "def EMGEEGECG_classifier():\n",
    "    # defining input shape of each sample\n",
    "    inp = Input(shape=(10001, 1))\n",
    "    # using a convoluted 1D layer with 32 filters, and kernel size=5, activation function = ReLu, padding with zeroes valid\n",
    "    img_1 = Convolution1D(32, kernel_size=5, activation=activations.relu, padding=\"valid\")(inp)\n",
    "    # The first layer alone underfitted the data, therefore I've used a second convoluted 1D layer with 64 filters, and kernel size=5, activation function = ReLu, padding with zeroes valid\n",
    "    img_1 = Convolution1D(64, kernel_size=5, activation=activations.relu, padding=\"valid\")(img_1)\n",
    "    # Pool the results of the first two layers so they can be digested by the first dense layer, pooling using \"Max\" value\n",
    "    img_1 = GlobalMaxPool1D()(img_1)\n",
    "    \n",
    "    # Two dense layers to classify samples based on output from convolutional layers. One dense layer alone would underfit.\n",
    "    # Last dense layer used softmax activation to return an array of probability scores. \n",
    "    # Each score is the probability that the current sample belongs to one of our possible targets.\n",
    "    dense_1 = Dense(64, activation=activations.relu, name=\"dense_1\")(img_1)\n",
    "    dense_1 = Dense(3, activation=activations.softmax, name=\"dense_2\")(dense_1)\n",
    "\n",
    "    # defining model inputs and outputs, and learning rate (Adam)\n",
    "    model = models.Model(inputs=inp, outputs=dense_1)\n",
    "    opt = tf.keras.optimizers.Adam(0.001)\n",
    "    \n",
    "    # defining model optimization, and loss function = sparse_categorical_entropy given that we have more than two categories.\n",
    "    # metric chosen as 'acc' \n",
    "    model.compile(optimizer=opt, loss=losses.sparse_categorical_crossentropy, metrics=['acc'])\n",
    "    \n",
    "    # show model summary\n",
    "    model.summary()\n",
    "    return model"
   ]
  },
  {
   "cell_type": "code",
   "execution_count": 15,
   "id": "59c63846",
   "metadata": {
    "scrolled": true
   },
   "outputs": [
    {
     "name": "stdout",
     "output_type": "stream",
     "text": [
      "Model: \"model\"\n",
      "_________________________________________________________________\n",
      "Layer (type)                 Output Shape              Param #   \n",
      "=================================================================\n",
      "input_1 (InputLayer)         [(None, 10001, 1)]        0         \n",
      "_________________________________________________________________\n",
      "conv1d (Conv1D)              (None, 9997, 32)          192       \n",
      "_________________________________________________________________\n",
      "conv1d_1 (Conv1D)            (None, 9993, 64)          10304     \n",
      "_________________________________________________________________\n",
      "global_max_pooling1d (Global (None, 64)                0         \n",
      "_________________________________________________________________\n",
      "dense_1 (Dense)              (None, 64)                4160      \n",
      "_________________________________________________________________\n",
      "dense_2 (Dense)              (None, 3)                 195       \n",
      "=================================================================\n",
      "Total params: 14,851\n",
      "Trainable params: 14,851\n",
      "Non-trainable params: 0\n",
      "_________________________________________________________________\n",
      "Epoch 1/15\n",
      "34/34 [==============================] - 7s 191ms/step - loss: 1.0387 - acc: 0.6206 - val_loss: 0.9528 - val_acc: 0.5667\n",
      "\n",
      "Epoch 00001: val_acc improved from -inf to 0.56667, saving model to EMGEEGECG_classifier.h5\n",
      "Epoch 2/15\n",
      "34/34 [==============================] - 7s 192ms/step - loss: 0.7484 - acc: 0.6865 - val_loss: 0.5942 - val_acc: 0.7167\n",
      "\n",
      "Epoch 00002: val_acc improved from 0.56667 to 0.71667, saving model to EMGEEGECG_classifier.h5\n",
      "Epoch 3/15\n",
      "34/34 [==============================] - 6s 183ms/step - loss: 0.5011 - acc: 0.7681 - val_loss: 0.4664 - val_acc: 0.7583\n",
      "\n",
      "Epoch 00003: val_acc improved from 0.71667 to 0.75833, saving model to EMGEEGECG_classifier.h5\n",
      "Epoch 4/15\n",
      "34/34 [==============================] - 6s 187ms/step - loss: 0.4357 - acc: 0.7848 - val_loss: 0.4191 - val_acc: 0.7750\n",
      "\n",
      "Epoch 00004: val_acc improved from 0.75833 to 0.77500, saving model to EMGEEGECG_classifier.h5\n",
      "Epoch 5/15\n",
      "34/34 [==============================] - 7s 194ms/step - loss: 0.4209 - acc: 0.8080 - val_loss: 0.3922 - val_acc: 0.7917\n",
      "\n",
      "Epoch 00005: val_acc improved from 0.77500 to 0.79167, saving model to EMGEEGECG_classifier.h5\n",
      "Epoch 6/15\n",
      "34/34 [==============================] - 7s 194ms/step - loss: 0.3701 - acc: 0.8237 - val_loss: 0.3866 - val_acc: 0.7917\n",
      "\n",
      "Epoch 00006: val_acc did not improve from 0.79167\n",
      "Epoch 7/15\n",
      "34/34 [==============================] - 6s 187ms/step - loss: 0.3315 - acc: 0.8469 - val_loss: 0.3127 - val_acc: 0.8750\n",
      "\n",
      "Epoch 00007: val_acc improved from 0.79167 to 0.87500, saving model to EMGEEGECG_classifier.h5\n",
      "Epoch 8/15\n",
      "34/34 [==============================] - 6s 184ms/step - loss: 0.2815 - acc: 0.8933 - val_loss: 0.2664 - val_acc: 0.9250\n",
      "\n",
      "Epoch 00008: val_acc improved from 0.87500 to 0.92500, saving model to EMGEEGECG_classifier.h5\n",
      "Epoch 9/15\n",
      "34/34 [==============================] - 6s 188ms/step - loss: 0.2345 - acc: 0.9128 - val_loss: 0.2250 - val_acc: 0.9250\n",
      "\n",
      "Epoch 00009: val_acc did not improve from 0.92500\n",
      "Epoch 10/15\n",
      "34/34 [==============================] - 6s 182ms/step - loss: 0.1948 - acc: 0.9471 - val_loss: 0.1945 - val_acc: 0.9417\n",
      "\n",
      "Epoch 00010: val_acc improved from 0.92500 to 0.94167, saving model to EMGEEGECG_classifier.h5\n",
      "Epoch 11/15\n",
      "34/34 [==============================] - 6s 183ms/step - loss: 0.1596 - acc: 0.9647 - val_loss: 0.1589 - val_acc: 0.9500\n",
      "\n",
      "Epoch 00011: val_acc improved from 0.94167 to 0.95000, saving model to EMGEEGECG_classifier.h5\n",
      "Epoch 12/15\n",
      "34/34 [==============================] - 6s 189ms/step - loss: 0.1424 - acc: 0.9610 - val_loss: 0.1728 - val_acc: 0.9333\n",
      "\n",
      "Epoch 00012: val_acc did not improve from 0.95000\n",
      "Epoch 13/15\n",
      "34/34 [==============================] - 6s 184ms/step - loss: 0.1145 - acc: 0.9750 - val_loss: 0.1325 - val_acc: 0.9583\n",
      "\n",
      "Epoch 00013: val_acc improved from 0.95000 to 0.95833, saving model to EMGEEGECG_classifier.h5\n",
      "Epoch 14/15\n",
      "34/34 [==============================] - 6s 188ms/step - loss: 0.0987 - acc: 0.9777 - val_loss: 0.1186 - val_acc: 0.9583\n",
      "\n",
      "Epoch 00014: val_acc did not improve from 0.95833\n",
      "Epoch 15/15\n",
      "34/34 [==============================] - 6s 189ms/step - loss: 0.0859 - acc: 0.9814 - val_loss: 0.1213 - val_acc: 0.9667\n",
      "\n",
      "Epoch 00015: val_acc improved from 0.95833 to 0.96667, saving model to EMGEEGECG_classifier.h5\n"
     ]
    },
    {
     "data": {
      "text/plain": [
       "Text(0, 0.5, 'Loss')"
      ]
     },
     "execution_count": 15,
     "metadata": {},
     "output_type": "execute_result"
    },
    {
     "data": {
      "image/png": "[encoded data removed]",
      "text/plain": [
       "<Figure size 640x480 with 1 Axes>"
      ]
     },
     "metadata": {},
     "output_type": "display_data"
    }
   ],
   "source": [
    "\n",
    "# Running our classifier over the data, saving it to a file in parallel so we can use it for classification later(checkpoint).\n",
    "# I've plotted Training Loss per Epoch as a performance measure.\n",
    "# 15 Epochs was chosen by trial and error\n",
    "\n",
    "model = EMGEEGECG_classifier()\n",
    "\n",
    "file_path = \"EMGEEGECG_classifier.h5\"\n",
    "checkpoint = ModelCheckpoint(file_path, monitor='val_acc', verbose=1, save_best_only=True, mode='max')\n",
    "redonplat = ReduceLROnPlateau(monitor=\"val_acc\", mode=\"max\", patience=3, verbose=0)\n",
    "callbacks_list = [checkpoint, redonplat]  \n",
    "\n",
    "model.fit(X_train, Y_train_fix, epochs=15, verbose=1, callbacks=callbacks_list, validation_split=0.1)\n",
    "\n",
    "f, ax = plt.subplots()\n",
    "ax.plot([None] + model.history.history['loss'], 'o-')\n",
    "ax.legend(['Training Loss'], loc = 0)\n",
    "ax.set_title('Training Loss per Epoch')\n",
    "ax.set_xlabel('Epoch')\n",
    "ax.set_ylabel('Loss')"
   ]
  },
  {
   "cell_type": "code",
   "execution_count": 16,
   "id": "5782afdb",
   "metadata": {
    "scrolled": true
   },
   "outputs": [
    {
     "name": "stdout",
     "output_type": "stream",
     "text": [
      "Test f1 score : 0.9775398196123585 \n"
     ]
    }
   ],
   "source": [
    "# call our model, and calculate f1 score\n",
    "model.load_weights(file_path)\n",
    "\n",
    "pred_test = model.predict(X_test)\n",
    "pred_test = np.argmax(pred_test, axis=-1)\n",
    "\n",
    "f1 = f1_score(Y_test_fix, pred_test, average=\"macro\")\n",
    "\n",
    "print(\"Test f1 score : %s \"% f1)\n",
    "\n"
   ]
  },
  {
   "cell_type": "code",
   "execution_count": null,
   "id": "5c9c383c",
   "metadata": {},
   "outputs": [],
   "source": [
    "# Comments: I believe that with the addition of more layers, the result would get better. However, I've decided to wait until\n",
    "# I get a better understanding on the principles of neural networks, in the mean time I think this is enough for a proof of concept."
   ]
  }
 ],
 "metadata": {
  "kernelspec": {
   "display_name": "Python 3 (ipykernel)",
   "language": "python",
   "name": "python3"
  },
  "language_info": {
   "codemirror_mode": {
    "name": "ipython",
    "version": 3
   },
   "file_extension": ".py",
   "mimetype": "text/x-python",
   "name": "python",
   "nbconvert_exporter": "python",
   "pygments_lexer": "ipython3",
   "version": "3.8.13"
  }
 },
 "nbformat": 4,
 "nbformat_minor": 5
}
